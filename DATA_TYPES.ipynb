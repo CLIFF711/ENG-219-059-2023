{
  "nbformat": 4,
  "nbformat_minor": 0,
  "metadata": {
    "colab": {
      "provenance": [],
      "authorship_tag": "ABX9TyOHgIKP5amcupRakSceHywT",
      "include_colab_link": true
    },
    "kernelspec": {
      "name": "python3",
      "display_name": "Python 3"
    },
    "language_info": {
      "name": "python"
    }
  },
  "cells": [
    {
      "cell_type": "markdown",
      "metadata": {
        "id": "view-in-github",
        "colab_type": "text"
      },
      "source": [
        "<a href=\"https://colab.research.google.com/github/CLIFF711/ENG-219-059-2023/blob/main/DATA_TYPES.ipynb\" target=\"_parent\"><img src=\"https://colab.research.google.com/assets/colab-badge.svg\" alt=\"Open In Colab\"/></a>"
      ]
    },
    {
      "cell_type": "markdown",
      "source": [
        "data types"
      ],
      "metadata": {
        "id": "0yv7AJPXqM0j"
      }
    },
    {
      "cell_type": "code",
      "source": [
        "# Uncomment and run this code to get started!\n",
        "print(int(1.2321))\n",
        "print(int(1.747))\n",
        "print(int(-3.94535))\n",
        "print(int(-2.19774))"
      ],
      "metadata": {
        "colab": {
          "base_uri": "https://localhost:8080/"
        },
        "id": "hxe7CmicqP7K",
        "outputId": "6721d8b0-ccc9-4de1-dead-ab60691c1a28"
      },
      "execution_count": 1,
      "outputs": [
        {
          "output_type": "stream",
          "name": "stdout",
          "text": [
            "1\n",
            "1\n",
            "-3\n",
            "-2\n"
          ]
        }
      ]
    },
    {
      "cell_type": "code",
      "source": [
        "# Uncomment and run this code to get started!\n",
        "print(3 * True)\n",
        "print(-3.1 * True)\n",
        "print(type(\"abc\" * False))\n",
        "print(len(\"abc\" * False))"
      ],
      "metadata": {
        "colab": {
          "base_uri": "https://localhost:8080/"
        },
        "id": "Xo0aCYWn9l12",
        "outputId": "7faee3e1-40c0-4171-e914-7c2ac5098671"
      },
      "execution_count": 2,
      "outputs": [
        {
          "output_type": "stream",
          "name": "stdout",
          "text": [
            "3\n",
            "-3.1\n",
            "<class 'str'>\n",
            "0\n"
          ]
        }
      ]
    },
    {
      "cell_type": "code",
      "source": [
        "# TODO: Complete the function\n",
        "def get_expected_cost(beds, baths, has_basement):\n",
        "    value = 80000 + 30000 * beds + 10000 * baths + 40000 * has_basement\n",
        "    return value"
      ],
      "metadata": {
        "id": "v_AyDtyE9xCG"
      },
      "execution_count": 3,
      "outputs": []
    },
    {
      "cell_type": "code",
      "source": [
        "print(False + False)\n",
        "print(True + False)\n",
        "print(False + True)\n",
        "print(True + True)\n",
        "print(False + True + True + True)"
      ],
      "metadata": {
        "colab": {
          "base_uri": "https://localhost:8080/"
        },
        "id": "SymykjQd93fR",
        "outputId": "95a7db0e-1646-45dd-a845-f433f8e2637c"
      },
      "execution_count": 4,
      "outputs": [
        {
          "output_type": "stream",
          "name": "stdout",
          "text": [
            "0\n",
            "1\n",
            "1\n",
            "2\n",
            "3\n"
          ]
        }
      ]
    },
    {
      "cell_type": "code",
      "source": [
        "def cost_of_project(engraving, solid_gold):\n",
        "    cost = solid_gold * (100 + 10 * len(engraving)) + (not solid_gold) * (50 + 7 * len(engraving))\n",
        "    return cost"
      ],
      "metadata": {
        "id": "u0dsxNz3-Jsp"
      },
      "execution_count": 5,
      "outputs": []
    }
  ]
}