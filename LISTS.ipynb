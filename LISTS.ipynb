{
  "nbformat": 4,
  "nbformat_minor": 0,
  "metadata": {
    "colab": {
      "provenance": [],
      "authorship_tag": "ABX9TyMmbT9667buLRYj5Iu3OdBl",
      "include_colab_link": true
    },
    "kernelspec": {
      "name": "python3",
      "display_name": "Python 3"
    },
    "language_info": {
      "name": "python"
    }
  },
  "cells": [
    {
      "cell_type": "markdown",
      "metadata": {
        "id": "view-in-github",
        "colab_type": "text"
      },
      "source": [
        "<a href=\"https://colab.research.google.com/github/CLIFF711/ENG-219-059-2023/blob/main/LISTS.ipynb\" target=\"_parent\"><img src=\"https://colab.research.google.com/assets/colab-badge.svg\" alt=\"Open In Colab\"/></a>"
      ]
    },
    {
      "cell_type": "code",
      "execution_count": 1,
      "metadata": {
        "id": "wgUFooG6BjF1"
      },
      "outputs": [],
      "source": [
        "# Do not change: Initial menu for your restaurant\n",
        "menu = ['stewed meat with onions', 'bean soup', 'risotto with trout and shrimp',\n",
        "       'fish soup with cream and onion', 'gyro']\n",
        "\n",
        "# TODO: remove 'bean soup', and add 'roasted beet salad' to the end of the menu\n",
        "menu.remove('bean soup')\n",
        "menu.append('roasted beet salad')"
      ]
    },
    {
      "cell_type": "code",
      "source": [
        "# Do not change: Number of customers each day for the last month\n",
        "num_customers = [137, 147, 135, 128, 170, 174, 165, 146, 126, 159,\n",
        "                 141, 148, 132, 147, 168, 153, 170, 161, 148, 152,\n",
        "                 141, 151, 131, 149, 164, 163, 143, 143, 166, 171]\n",
        "\n",
        "# TODO: Fill in values for the variables below\n",
        "avg_first_seven = sum(num_customers[:7])/7\n",
        "avg_last_seven = sum(num_customers[-7:])/7\n",
        "max_month = max(num_customers)\n",
        "min_month = min(num_customers)"
      ],
      "metadata": {
        "id": "rGU4rNguBzrj"
      },
      "execution_count": 2,
      "outputs": []
    },
    {
      "cell_type": "code",
      "source": [
        "# DO not change: Define two Python strings\n",
        "alphabet = \"A.B.C.D.E.F.G.H.I.J.K.L.M.N.O.P.Q.R.S.T.U.V.W.X.Y.Z\"\n",
        "address = \"Mr. H. Potter,The cupboard under the Stairs,4 Privet Drive,Little Whinging,Surrey\"\n",
        "\n",
        "# TODO: Convert strings into Python lists\n",
        "letters = alphabet.split(\".\")\n",
        "formatted_address = address.split(\",\")"
      ],
      "metadata": {
        "id": "kETVl-7qB6xJ"
      },
      "execution_count": 3,
      "outputs": []
    },
    {
      "cell_type": "code",
      "source": [
        "def percentage_liked(ratings):\n",
        "    list_liked = [i>=4 for i in ratings]\n",
        "    # TODO: Complete the function\n",
        "def percentage_liked(ratings):\n",
        "    list_liked = [i >= 4 for i in ratings]\n",
        "    percentage_liked = sum(list_liked)/len(list_liked)\n",
        "    return percentage_liked\n",
        "\n",
        "# Do not change: should return 0.5\n",
        "percentage_liked([1, 2, 3, 4, 5, 4, 5, 1])"
      ],
      "metadata": {
        "colab": {
          "base_uri": "https://localhost:8080/"
        },
        "id": "0NwKx8m0CFXE",
        "outputId": "10941a84-6854-4c21-8d00-668de9fa8c4e"
      },
      "execution_count": 4,
      "outputs": [
        {
          "output_type": "execute_result",
          "data": {
            "text/plain": [
              "0.5"
            ]
          },
          "metadata": {},
          "execution_count": 4
        }
      ]
    },
    {
      "cell_type": "code",
      "source": [
        "# TODO: Edit the function\n",
        "def percentage_growth(num_users, yrs_ago):\n",
        "    growth = (num_users[len(num_users)-1] - num_users[len(num_users)-yrs_ago-1])/num_users[len(num_users)-yrs_ago-1]\n",
        "    return growth\n",
        "\n",
        "# Do not change: Variable for calculating some test examples\n",
        "num_users_test = [920344, 1043553, 1204334, 1458996, 1503323, 1593432, 1623463, 1843064, 1930992, 2001078]\n",
        "\n",
        "# Do not change: Should return .036\n",
        "print(percentage_growth(num_users_test, 1))\n",
        "\n",
        "# Do not change: Should return 0.66\n",
        "print(percentage_growth(num_users_test, 7))"
      ],
      "metadata": {
        "colab": {
          "base_uri": "https://localhost:8080/"
        },
        "id": "4Uheb2lECQGc",
        "outputId": "cbae2dfd-0a67-4a62-858f-f256dd0557ba"
      },
      "execution_count": 5,
      "outputs": [
        {
          "output_type": "stream",
          "name": "stdout",
          "text": [
            "0.03629533421163837\n",
            "0.6615639847417742\n"
          ]
        }
      ]
    }
  ]
}