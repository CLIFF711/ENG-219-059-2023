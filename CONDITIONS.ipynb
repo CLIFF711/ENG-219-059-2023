{
  "nbformat": 4,
  "nbformat_minor": 0,
  "metadata": {
    "colab": {
      "provenance": [],
      "authorship_tag": "ABX9TyP1IauR7M6YQfyRSHByqaua",
      "include_colab_link": true
    },
    "kernelspec": {
      "name": "python3",
      "display_name": "Python 3"
    },
    "language_info": {
      "name": "python"
    }
  },
  "cells": [
    {
      "cell_type": "markdown",
      "metadata": {
        "id": "view-in-github",
        "colab_type": "text"
      },
      "source": [
        "<a href=\"https://colab.research.google.com/github/CLIFF711/ENG-219-059-2023/blob/main/CONDITIONS.ipynb\" target=\"_parent\"><img src=\"https://colab.research.google.com/assets/colab-badge.svg\" alt=\"Open In Colab\"/></a>"
      ]
    },
    {
      "cell_type": "code",
      "execution_count": 1,
      "metadata": {
        "id": "tnX6YXEM-6Ly"
      },
      "outputs": [],
      "source": [
        "# TODO: Edit the function to return the correct grade for different scores\n",
        "def get_grade(score) :\n",
        "    if score >= 90:\n",
        "        grade = \"A\"\n",
        "    elif score >= 80:\n",
        "        grade = \"B\"\n",
        "    elif score >= 70:\n",
        "        grade = \"C\"\n",
        "    elif score >= 60:\n",
        "        grade = \"D\"\n",
        "    else:\n",
        "        grade = \"F\"\n",
        "    return grade"
      ]
    },
    {
      "cell_type": "code",
      "source": [
        "def cost_of_project(engraving, solid_gold):\n",
        "    if solid_gold == True:\n",
        "        cost = 100 + 10 * len(engraving)\n",
        "    else:\n",
        "        cost = 50 + 7 * len(engraving)\n",
        "    return cost"
      ],
      "metadata": {
        "id": "eq7MF-eW_Xck"
      },
      "execution_count": 2,
      "outputs": []
    },
    {
      "cell_type": "code",
      "source": [
        "# TODO: Edit the function to return the correct bill for different\n",
        "# values of num_gallons\n",
        "def get_water_bill(num_gallons):\n",
        "    bill = 1000\n",
        "    if num_gallons <= 8000:\n",
        "        bill = 5 * num_gallons / 1000\n",
        "    elif num_gallons <= 22000:\n",
        "        bill = 6 * num_gallons / 1000\n",
        "    elif num_gallons <= 30000:\n",
        "        bill = 7 * num_gallons / 1000\n",
        "    else:\n",
        "        bill = 10 * num_gallons / 1000\n",
        "    return bill"
      ],
      "metadata": {
        "id": "W1eUxF2E_gpD"
      },
      "execution_count": 3,
      "outputs": []
    },
    {
      "cell_type": "code",
      "source": [
        "# TODO: Edit the function to return the correct bill for different\n",
        "# values of GB\n",
        "def get_phone_bill(gb):\n",
        "    bill = 100\n",
        "    if gb <= 15:\n",
        "        bill = 100\n",
        "    else:\n",
        "        bill = 100 + (gb - 15) * 100\n",
        "    return bill"
      ],
      "metadata": {
        "id": "8YY4bBh1_nkq"
      },
      "execution_count": 4,
      "outputs": []
    }
  ]
}